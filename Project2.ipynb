{
 "cells": [
  {
   "cell_type": "code",
   "execution_count": 16,
   "id": "27631b0f-a068-4df7-90d3-85f125b87068",
   "metadata": {},
   "outputs": [
    {
     "name": "stderr",
     "output_type": "stream",
     "text": [
      "[nltk_data] Downloading package stopwords to\n",
      "[nltk_data]     C:\\Users\\adity\\AppData\\Roaming\\nltk_data...\n",
      "[nltk_data]   Package stopwords is already up-to-date!\n"
     ]
    },
    {
     "name": "stdout",
     "output_type": "stream",
     "text": [
      "                       movie_title release_date      genre mpaa_rating  \\\n",
      "0  Snow White and the Seven Dwarfs   1937-12-21    Musical           G   \n",
      "1                        Pinocchio   1940-02-09  Adventure           G   \n",
      "2                         Fantasia   1940-11-13    Musical           G   \n",
      "3                Song of the South   1946-11-12  Adventure           G   \n",
      "4                       Cinderella   1950-02-15      Drama           G   \n",
      "\n",
      "   total_gross  inflation_adjusted_gross  \n",
      "0    184925485                5228953251  \n",
      "1     84300000                2188229052  \n",
      "2     83320000                2187090808  \n",
      "3     65000000                1078510579  \n",
      "4     85000000                 920608730  \n",
      "                       movie_title release_date      genre mpaa_rating  \\\n",
      "0  Snow White and the Seven Dwarfs   1937-12-21    Musical           G   \n",
      "1                        Pinocchio   1940-02-09  Adventure           G   \n",
      "2                         Fantasia   1940-11-13    Musical           G   \n",
      "3                Song of the South   1946-11-12  Adventure           G   \n",
      "4                       Cinderella   1950-02-15      Drama           G   \n",
      "\n",
      "   total_gross  inflation_adjusted_gross    processed_description  \\\n",
      "0    184925485                5228953251  snow white seven dwarfs   \n",
      "1     84300000                2188229052                pinocchio   \n",
      "2     83320000                2187090808                 fantasia   \n",
      "3     65000000                1078510579               song south   \n",
      "4     85000000                 920608730               cinderella   \n",
      "\n",
      "   genre_encoded  \n",
      "0              8  \n",
      "1              1  \n",
      "2              8  \n",
      "3              1  \n",
      "4              6  \n"
     ]
    }
   ],
   "source": [
    "import pandas as pd\n",
    "import re\n",
    "import nltk\n",
    "from nltk.corpus import stopwords\n",
    "from sklearn.preprocessing import LabelEncoder\n",
    "\n",
    "# Download NLTK data\n",
    "nltk.download('stopwords')\n",
    "\n",
    "# Load the dataset\n",
    "df = pd.read_csv('movies.csv')\n",
    "\n",
    "# Inspect the dataset\n",
    "print(df.head())\n",
    "\n",
    "# Preprocess the text data\n",
    "def preprocess_text(text):\n",
    "    # Convert to lowercase\n",
    "    text = text.lower()\n",
    "    # Remove punctuation and numbers\n",
    "    text = re.sub(r'[^a-z\\s]', '', text)\n",
    "    # Tokenize\n",
    "    words = text.split()\n",
    "    # Remove stopwords\n",
    "    words = [word for word in words if word not in stopwords.words('english')]\n",
    "    return ' '.join(words)\n",
    "\n",
    "df['processed_description'] = df['movie_title'].apply(preprocess_text)\n",
    "\n",
    "# Encode the genres as labels\n",
    "label_encoder = LabelEncoder()\n",
    "df['genre_encoded'] = label_encoder.fit_transform(df['genre'])\n",
    "\n",
    "# Inspect the processed data\n",
    "print(df.head())\n"
   ]
  },
  {
   "cell_type": "code",
   "execution_count": 17,
   "id": "15e2a633-9690-4cbb-8505-c40b1e4068f0",
   "metadata": {},
   "outputs": [],
   "source": [
    "from sklearn.feature_extraction.text import TfidfVectorizer\n",
    "\n",
    "# Initialize TF-IDF Vectorizer\n",
    "tfidf_vectorizer = TfidfVectorizer(max_features=5000)\n",
    "\n",
    "# Fit and transform the processed descriptions\n",
    "X = tfidf_vectorizer.fit_transform(df['processed_description']).toarray()\n",
    "\n",
    "# Extract the labels\n",
    "y = df['genre_encoded']\n"
   ]
  },
  {
   "cell_type": "code",
   "execution_count": 21,
   "id": "626b5a32-3fed-45bc-bad0-5181ede0d3d9",
   "metadata": {},
   "outputs": [
    {
     "name": "stdout",
     "output_type": "stream",
     "text": [
      "Accuracy: 0.33\n"
     ]
    },
    {
     "ename": "TypeError",
     "evalue": "object of type 'float' has no len()",
     "output_type": "error",
     "traceback": [
      "\u001b[1;31m---------------------------------------------------------------------------\u001b[0m",
      "\u001b[1;31mTypeError\u001b[0m                                 Traceback (most recent call last)",
      "Cell \u001b[1;32mIn[21], line 24\u001b[0m\n\u001b[0;32m     22\u001b[0m \u001b[38;5;66;03m# Generate the classification report\u001b[39;00m\n\u001b[0;32m     23\u001b[0m target_names \u001b[38;5;241m=\u001b[39m [label_encoder\u001b[38;5;241m.\u001b[39mclasses_[label] \u001b[38;5;28;01mfor\u001b[39;00m label \u001b[38;5;129;01min\u001b[39;00m unique_labels]\n\u001b[1;32m---> 24\u001b[0m \u001b[38;5;28mprint\u001b[39m(classification_report(y_test, y_pred, labels\u001b[38;5;241m=\u001b[39munique_labels, target_names\u001b[38;5;241m=\u001b[39mtarget_names, zero_division\u001b[38;5;241m=\u001b[39m\u001b[38;5;241m0\u001b[39m))\n",
      "File \u001b[1;32m~\\anaconda3\\Lib\\site-packages\\sklearn\\metrics\\_classification.py:2363\u001b[0m, in \u001b[0;36mclassification_report\u001b[1;34m(y_true, y_pred, labels, target_names, sample_weight, digits, output_dict, zero_division)\u001b[0m\n\u001b[0;32m   2361\u001b[0m \u001b[38;5;28;01melse\u001b[39;00m:\n\u001b[0;32m   2362\u001b[0m     longest_last_line_heading \u001b[38;5;241m=\u001b[39m \u001b[38;5;124m\"\u001b[39m\u001b[38;5;124mweighted avg\u001b[39m\u001b[38;5;124m\"\u001b[39m\n\u001b[1;32m-> 2363\u001b[0m     name_width \u001b[38;5;241m=\u001b[39m \u001b[38;5;28mmax\u001b[39m(\u001b[38;5;28mlen\u001b[39m(cn) \u001b[38;5;28;01mfor\u001b[39;00m cn \u001b[38;5;129;01min\u001b[39;00m target_names)\n\u001b[0;32m   2364\u001b[0m     width \u001b[38;5;241m=\u001b[39m \u001b[38;5;28mmax\u001b[39m(name_width, \u001b[38;5;28mlen\u001b[39m(longest_last_line_heading), digits)\n\u001b[0;32m   2365\u001b[0m     head_fmt \u001b[38;5;241m=\u001b[39m \u001b[38;5;124m\"\u001b[39m\u001b[38;5;124m{\u001b[39m\u001b[38;5;124m:>\u001b[39m\u001b[38;5;132;01m{width}\u001b[39;00m\u001b[38;5;124ms} \u001b[39m\u001b[38;5;124m\"\u001b[39m \u001b[38;5;241m+\u001b[39m \u001b[38;5;124m\"\u001b[39m\u001b[38;5;124m \u001b[39m\u001b[38;5;132;01m{:>9}\u001b[39;00m\u001b[38;5;124m\"\u001b[39m \u001b[38;5;241m*\u001b[39m \u001b[38;5;28mlen\u001b[39m(headers)\n",
      "File \u001b[1;32m~\\anaconda3\\Lib\\site-packages\\sklearn\\metrics\\_classification.py:2363\u001b[0m, in \u001b[0;36m<genexpr>\u001b[1;34m(.0)\u001b[0m\n\u001b[0;32m   2361\u001b[0m \u001b[38;5;28;01melse\u001b[39;00m:\n\u001b[0;32m   2362\u001b[0m     longest_last_line_heading \u001b[38;5;241m=\u001b[39m \u001b[38;5;124m\"\u001b[39m\u001b[38;5;124mweighted avg\u001b[39m\u001b[38;5;124m\"\u001b[39m\n\u001b[1;32m-> 2363\u001b[0m     name_width \u001b[38;5;241m=\u001b[39m \u001b[38;5;28mmax\u001b[39m(\u001b[38;5;28mlen\u001b[39m(cn) \u001b[38;5;28;01mfor\u001b[39;00m cn \u001b[38;5;129;01min\u001b[39;00m target_names)\n\u001b[0;32m   2364\u001b[0m     width \u001b[38;5;241m=\u001b[39m \u001b[38;5;28mmax\u001b[39m(name_width, \u001b[38;5;28mlen\u001b[39m(longest_last_line_heading), digits)\n\u001b[0;32m   2365\u001b[0m     head_fmt \u001b[38;5;241m=\u001b[39m \u001b[38;5;124m\"\u001b[39m\u001b[38;5;124m{\u001b[39m\u001b[38;5;124m:>\u001b[39m\u001b[38;5;132;01m{width}\u001b[39;00m\u001b[38;5;124ms} \u001b[39m\u001b[38;5;124m\"\u001b[39m \u001b[38;5;241m+\u001b[39m \u001b[38;5;124m\"\u001b[39m\u001b[38;5;124m \u001b[39m\u001b[38;5;132;01m{:>9}\u001b[39;00m\u001b[38;5;124m\"\u001b[39m \u001b[38;5;241m*\u001b[39m \u001b[38;5;28mlen\u001b[39m(headers)\n",
      "\u001b[1;31mTypeError\u001b[0m: object of type 'float' has no len()"
     ]
    }
   ],
   "source": [
    "from sklearn.model_selection import train_test_split\n",
    "from sklearn.ensemble import RandomForestClassifier\n",
    "from sklearn.metrics import accuracy_score, classification_report\n",
    "\n",
    "# Split the data into training and testing sets\n",
    "X_train, X_test, y_train, y_test = train_test_split(X, y, test_size=0.2, random_state=42)\n",
    "\n",
    "# Initialize and train the classifier\n",
    "classifier = RandomForestClassifier(n_estimators=100, random_state=42)\n",
    "classifier.fit(X_train, y_train)\n",
    "\n",
    "# Predict on the test set\n",
    "y_pred = classifier.predict(X_test)\n",
    "\n",
    "# Evaluate the model\n",
    "accuracy = accuracy_score(y_test, y_pred)\n",
    "print(f'Accuracy: {accuracy:.2f}')\n",
    "\n",
    "# Extract the unique labels in y_test\n",
    "unique_labels = sorted(set(y_test))\n",
    "\n",
    "# Generate the classification report\n",
    "target_names = [label_encoder.classes_[label] for label in unique_labels]\n",
    "print(classification_report(y_test, y_pred, labels=unique_labels, target_names=target_names, zero_division=0))\n"
   ]
  },
  {
   "cell_type": "code",
   "execution_count": 20,
   "id": "56b31ea1-7303-49ce-a093-1bc3870e9b51",
   "metadata": {},
   "outputs": [
    {
     "name": "stdout",
     "output_type": "stream",
     "text": [
      "Predicted Genre: Adventure\n"
     ]
    }
   ],
   "source": [
    "def predict_genre(description):\n",
    "    processed_description = preprocess_text(description)\n",
    "    description_tfidf = tfidf_vectorizer.transform([processed_description]).toarray()\n",
    "    predicted_genre_encoded = classifier.predict(description_tfidf)\n",
    "    predicted_genre = label_encoder.inverse_transform(predicted_genre_encoded)\n",
    "    return predicted_genre[0]\n",
    "\n",
    "# Example usage\n",
    "new_movie_description = \"An adventurous young man sets out on a journey to find a hidden treasure.\"\n",
    "predicted_genre = predict_genre(new_movie_description)\n",
    "print(f'Predicted Genre: {predicted_genre}')\n"
   ]
  },
  {
   "cell_type": "code",
   "execution_count": null,
   "id": "0747d037-f0ae-4688-98a9-ea186b59d4db",
   "metadata": {},
   "outputs": [],
   "source": []
  }
 ],
 "metadata": {
  "kernelspec": {
   "display_name": "Python 3 (ipykernel)",
   "language": "python",
   "name": "python3"
  },
  "language_info": {
   "codemirror_mode": {
    "name": "ipython",
    "version": 3
   },
   "file_extension": ".py",
   "mimetype": "text/x-python",
   "name": "python",
   "nbconvert_exporter": "python",
   "pygments_lexer": "ipython3",
   "version": "3.11.7"
  }
 },
 "nbformat": 4,
 "nbformat_minor": 5
}
